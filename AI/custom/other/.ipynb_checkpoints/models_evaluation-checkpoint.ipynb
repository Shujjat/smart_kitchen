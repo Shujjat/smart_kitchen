{
 "cells": [
  {
   "cell_type": "markdown",
   "metadata": {
    "colab_type": "text",
    "id": "b7wS0q97g9Uj"
   },
   "source": [
    "## Find out which model predicts with highest accuracy.\n",
    "\n",
    "#### 28.10.2018"
   ]
  },
  {
   "cell_type": "markdown",
   "metadata": {
    "colab_type": "text",
    "id": "llESOjoKKFku"
   },
   "source": [
    "# Download and prepare models and dataset for testing"
   ]
  },
  {
   "cell_type": "code",
   "execution_count": 8,
   "metadata": {
    "colab": {
     "base_uri": "https://localhost:8080/",
     "height": 119
    },
    "colab_type": "code",
    "id": "rPieSw66JTra",
    "outputId": "19812a06-4f49-41db-e074-136a78c02b32"
   },
   "outputs": [
    {
     "name": "stdout",
     "output_type": "stream",
     "text": [
      "Requirement already satisfied: gputil in /usr/local/lib/python3.6/dist-packages (1.3.0)\n",
      "Requirement already satisfied: numpy in /usr/local/lib/python3.6/dist-packages (from gputil) (1.14.6)\n",
      "Requirement already satisfied: psutil in /usr/local/lib/python3.6/dist-packages (5.4.7)\n",
      "Requirement already satisfied: humanize in /usr/local/lib/python3.6/dist-packages (0.5.1)\n",
      "Gen RAM Free: 9.7 GB  I Proc size: 5.2 GB\n",
      "GPU RAM Free: 2920MB | Used: 8521MB | Util  74% | Total 11441MB\n"
     ]
    }
   ],
   "source": [
    "########################### KNOW RAM AND GPU MEMORY ############################\n",
    "# Thanks to: Stas Bekman\n",
    "# https://stackoverflow.com/questions/48750199/google-colaboratory-misleading-information-about-its-gpu-only-5-ram-available#\n",
    "\n",
    "# memory footprint support libraries/code\n",
    "!ln -sf /opt/bin/nvidia-smi /usr/bin/nvidia-smi\n",
    "!pip install gputil\n",
    "!pip install psutil\n",
    "!pip install humanize\n",
    "import psutil\n",
    "import humanize\n",
    "import os\n",
    "import GPUtil as GPU\n",
    "GPUs = GPU.getGPUs()\n",
    "# XXX: only one GPU on Colab and isn’t guaranteed\n",
    "gpu = GPUs[0]\n",
    "def printm():\n",
    "  process = psutil.Process(os.getpid())\n",
    "  print(\"Gen RAM Free: \" + humanize.naturalsize( psutil.virtual_memory().available ), \" I Proc size: \" + humanize.naturalsize( process.memory_info().rss))\n",
    "  print(\"GPU RAM Free: {0:.0f}MB | Used: {1:.0f}MB | Util {2:3.0f}% | Total {3:.0f}MB\".format(gpu.memoryFree, gpu.memoryUsed, gpu.memoryUtil*100, gpu.memoryTotal))\n",
    "printm()"
   ]
  },
  {
   "cell_type": "code",
   "execution_count": 10,
   "metadata": {
    "colab": {
     "base_uri": "https://localhost:8080/",
     "height": 105
    },
    "colab_type": "code",
    "id": "jDk6eQJYK0vc",
    "outputId": "ab0f43e2-c652-40fd-d570-d8c0d92c3344"
   },
   "outputs": [
    {
     "name": "stdout",
     "output_type": "stream",
     "text": [
      "     54 ?        Sl     2:41 /usr/bin/python2 /usr/local/bin/jupyter-notebook -y --no-browser --log-level=DEBUG --debug --NotebookApp.allow_origin=\"*\" --NotebookApp.log_format=\"%(message)s\" --NotebookApp.disable_check_xsrf=True --NotebookApp.token= --Session.key=\"\" --Session.keyfile=\"\" --ContentsManager.untitled_directory=\"Untitled Folder\" --ContentsManager.untitled_file=\"Untitled File\" --ContentsManager.untitled_notebook=\"Untitled Notebook\" --KernelManager.autorestart=True --ip=\"172.28.0.2\" --port=9000 --port-retries=0 --notebook-dir=\"/content\" --NotebookApp.base_url=\"/\"\n",
      "   8681 ?        Ssl    6:31 /usr/bin/python3 -m ipykernel_launcher -f /root/.local/share/jupyter/runtime/kernel-c2cf63b9-fa8a-4eed-b34f-a1f0c138371a.json\n",
      "   8697 ?        S      0:00 /usr/bin/python3 -c from multiprocessing.semaphore_tracker import main;main(107)\n",
      "   8990 ?        S      0:00 /bin/bash -c ps ax | grep python\n"
     ]
    }
   ],
   "source": [
    "!ps ax | grep python"
   ]
  },
  {
   "cell_type": "code",
   "execution_count": 0,
   "metadata": {
    "colab": {},
    "colab_type": "code",
    "id": "xeXmNw91LO0z"
   },
   "outputs": [],
   "source": [
    "!kill -9 8681"
   ]
  },
  {
   "cell_type": "code",
   "execution_count": 1,
   "metadata": {
    "colab": {
     "base_uri": "https://localhost:8080/",
     "height": 119
    },
    "colab_type": "code",
    "id": "N1-GM4lzLid7",
    "outputId": "f9df771d-da4f-454b-dec2-4f6d14318345"
   },
   "outputs": [
    {
     "name": "stdout",
     "output_type": "stream",
     "text": [
      "client_secrets.json\t\tmegatools_1.10.2.orig.tar.gz.2\trun_4.sh\n",
      "example_ign.txt\t\t\tmegatools_1.10.2.orig.tar.gz.3\trun.sh\n",
      "mega_links_eval_models.txt\tmegatools_1.10.2.orig.tar.gz.4\tsample_data\n",
      "megatools-1.10.2\t\tmodel_candidates\t\ttest\n",
      "megatools_1.10.2.orig.tar.gz\tmodels_result.txt\n",
      "megatools_1.10.2.orig.tar.gz.1\tread_lines.sh\n"
     ]
    }
   ],
   "source": [
    "!ls"
   ]
  },
  {
   "cell_type": "code",
   "execution_count": 2,
   "metadata": {
    "colab": {
     "base_uri": "https://localhost:8080/",
     "height": 323
    },
    "colab_type": "code",
    "id": "6Tzwg0GrlS0E",
    "outputId": "69be31d9-9e78-4aaf-f428-1d57e81bc0e2"
   },
   "outputs": [
    {
     "name": "stdout",
     "output_type": "stream",
     "text": [
      "Collecting PyDrive\n",
      "\u001b[?25l  Downloading https://files.pythonhosted.org/packages/52/e0/0e64788e5dd58ce2d6934549676243dc69d982f198524be9b99e9c2a4fd5/PyDrive-1.3.1.tar.gz (987kB)\n",
      "\u001b[K    100% |████████████████████████████████| 993kB 7.1MB/s \n",
      "\u001b[?25hRequirement already satisfied: google-api-python-client>=1.2 in /usr/local/lib/python3.6/dist-packages (from PyDrive) (1.6.7)\n",
      "Requirement already satisfied: oauth2client>=4.0.0 in /usr/local/lib/python3.6/dist-packages (from PyDrive) (4.1.3)\n",
      "Requirement already satisfied: PyYAML>=3.0 in /usr/local/lib/python3.6/dist-packages (from PyDrive) (3.13)\n",
      "Requirement already satisfied: uritemplate<4dev,>=3.0.0 in /usr/local/lib/python3.6/dist-packages (from google-api-python-client>=1.2->PyDrive) (3.0.0)\n",
      "Requirement already satisfied: six<2dev,>=1.6.1 in /usr/local/lib/python3.6/dist-packages (from google-api-python-client>=1.2->PyDrive) (1.11.0)\n",
      "Requirement already satisfied: httplib2<1dev,>=0.9.2 in /usr/local/lib/python3.6/dist-packages (from google-api-python-client>=1.2->PyDrive) (0.11.3)\n",
      "Requirement already satisfied: rsa>=3.1.4 in /usr/local/lib/python3.6/dist-packages (from oauth2client>=4.0.0->PyDrive) (4.0)\n",
      "Requirement already satisfied: pyasn1>=0.1.7 in /usr/local/lib/python3.6/dist-packages (from oauth2client>=4.0.0->PyDrive) (0.4.4)\n",
      "Requirement already satisfied: pyasn1-modules>=0.0.5 in /usr/local/lib/python3.6/dist-packages (from oauth2client>=4.0.0->PyDrive) (0.2.2)\n",
      "Building wheels for collected packages: PyDrive\n",
      "  Running setup.py bdist_wheel for PyDrive ... \u001b[?25l-\b \b\\\b \bdone\n",
      "\u001b[?25h  Stored in directory: /root/.cache/pip/wheels/fa/d2/9a/d3b6b506c2da98289e5d417215ce34b696db856643bad779f4\n",
      "Successfully built PyDrive\n",
      "Installing collected packages: PyDrive\n",
      "Successfully installed PyDrive-1.3.1\n"
     ]
    }
   ],
   "source": [
    "!pip install PyDrive"
   ]
  },
  {
   "cell_type": "code",
   "execution_count": 0,
   "metadata": {
    "colab": {},
    "colab_type": "code",
    "id": "RLAMOz6PlHaQ"
   },
   "outputs": [],
   "source": [
    "from google.colab import files\n",
    "from pydrive.auth import GoogleAuth\n",
    "from pydrive.drive import GoogleDrive\n",
    "from google.colab import auth\n",
    "from oauth2client.client import GoogleCredentials"
   ]
  },
  {
   "cell_type": "code",
   "execution_count": 4,
   "metadata": {
    "colab": {
     "base_uri": "https://localhost:8080/",
     "height": 69,
     "resources": {
      "http://localhost:8080/nbextensions/google.colab/files.js": {
       "data": "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",
       "headers": [
        [
         "content-type",
         "application/javascript"
        ]
       ],
       "ok": true,
       "status": 200,
       "status_text": ""
      }
     }
    },
    "colab_type": "code",
    "id": "NmyV_P4hludN",
    "outputId": "02833cdb-da98-4cef-8548-86365b6fc070"
   },
   "outputs": [
    {
     "data": {
      "text/html": [
       "\n",
       "     <input type=\"file\" id=\"files-c5f5e843-c631-4c13-9d3a-02e4b5f3b5f7\" name=\"files[]\" multiple disabled />\n",
       "     <output id=\"result-c5f5e843-c631-4c13-9d3a-02e4b5f3b5f7\">\n",
       "      Upload widget is only available when the cell has been executed in the\n",
       "      current browser session. Please rerun this cell to enable.\n",
       "      </output>\n",
       "      <script src=\"/nbextensions/google.colab/files.js\"></script> "
      ],
      "text/plain": [
       "<IPython.core.display.HTML object>"
      ]
     },
     "metadata": {
      "tags": []
     },
     "output_type": "display_data"
    },
    {
     "name": "stdout",
     "output_type": "stream",
     "text": [
      "Saving models_result_40409_imgs.txt to models_result_40409_imgs.txt\n"
     ]
    }
   ],
   "source": [
    "uploaded = files.upload()\n",
    "\n",
    "with open(\"models_result_40409_imgs.txt\", 'wb') as f:\n",
    "    f.write(uploaded[list(uploaded.keys())[0]])"
   ]
  },
  {
   "cell_type": "code",
   "execution_count": 0,
   "metadata": {
    "colab": {},
    "colab_type": "code",
    "id": "D-Omi5rCimkJ"
   },
   "outputs": [],
   "source": [
    "!apt-get upgrade plowshare"
   ]
  },
  {
   "cell_type": "code",
   "execution_count": 0,
   "metadata": {
    "colab": {},
    "colab_type": "code",
    "id": "gmTZYMsMrk7i"
   },
   "outputs": [],
   "source": [
    "!apt-get install libssl-dev gcc autoconf automake pkg-config git"
   ]
  },
  {
   "cell_type": "code",
   "execution_count": 10,
   "metadata": {
    "colab": {
     "base_uri": "https://localhost:8080/",
     "height": 139
    },
    "colab_type": "code",
    "id": "xKJJa5yaoBAY",
    "outputId": "1b04432d-2441-457d-8c45-81e98b576678"
   },
   "outputs": [
    {
     "name": "stdout",
     "output_type": "stream",
     "text": [
      "OpenSSL 1.1.0g  2 Nov 2017\n",
      "built on: reproducible build, date unspecified\n",
      "platform: debian-amd64\n",
      "compiler: gcc -DDSO_DLFCN -DHAVE_DLFCN_H -DNDEBUG -DOPENSSL_THREADS -DOPENSSL_NO_STATIC_ENGINE -DOPENSSL_PIC -DOPENSSL_IA32_SSE2 -DOPENSSL_BN_ASM_MONT -DOPENSSL_BN_ASM_MONT5 -DOPENSSL_BN_ASM_GF2m -DSHA1_ASM -DSHA256_ASM -DSHA512_ASM -DRC4_ASM -DMD5_ASM -DAES_ASM -DVPAES_ASM -DBSAES_ASM -DGHASH_ASM -DECP_NISTZ256_ASM -DPADLOCK_ASM -DPOLY1305_ASM -DOPENSSLDIR=\"\\\"/usr/lib/ssl\\\"\" -DENGINESDIR=\"\\\"/usr/lib/x86_64-linux-gnu/engines-1.1\\\"\" \n",
      "OPENSSLDIR: \"/usr/lib/ssl\"\n",
      "ENGINESDIR: \"/usr/lib/x86_64-linux-gnu/engines-1.1\"\n"
     ]
    }
   ],
   "source": [
    "!openssl version -a"
   ]
  },
  {
   "cell_type": "code",
   "execution_count": 0,
   "metadata": {
    "colab": {},
    "colab_type": "code",
    "id": "jc2R_hVoumiP"
   },
   "outputs": [],
   "source": [
    "!apt-get install sudo\n",
    "!apt-get install libcurl4-gnutls-dev"
   ]
  },
  {
   "cell_type": "code",
   "execution_count": 0,
   "metadata": {
    "colab": {},
    "colab_type": "code",
    "id": "7wPVqJ8ew_zw"
   },
   "outputs": [],
   "source": [
    "!echo 'wget http://archive.ubuntu.com/ubuntu/pool/universe/m/megatools/megatools_1.10.2.orig.tar.gz && tar -xzvf megatools_1.10.2.orig.tar.gz && cd megatools-1.10.2 && ./configure && make && make install' > run_4.sh"
   ]
  },
  {
   "cell_type": "code",
   "execution_count": 0,
   "metadata": {
    "colab": {},
    "colab_type": "code",
    "id": "o4MxiEm-yU1D"
   },
   "outputs": [],
   "source": [
    "!sudo apt-get upgrade asciidoctor"
   ]
  },
  {
   "cell_type": "code",
   "execution_count": 0,
   "metadata": {
    "colab": {},
    "colab_type": "code",
    "id": "yXCHFzju1ABk"
   },
   "outputs": [],
   "source": [
    "!apt-get --no-install-recommends install asciidoc -y"
   ]
  },
  {
   "cell_type": "code",
   "execution_count": 0,
   "metadata": {
    "colab": {},
    "colab_type": "code",
    "id": "pLwwd3wdtUAn"
   },
   "outputs": [],
   "source": [
    "!bash run_4.sh"
   ]
  },
  {
   "cell_type": "code",
   "execution_count": 12,
   "metadata": {
    "colab": {
     "base_uri": "https://localhost:8080/",
     "height": 51
    },
    "colab_type": "code",
    "id": "NmSNL90oxeIk",
    "outputId": "4852fd8f-aa4f-4d11-efbd-c37a409b7410"
   },
   "outputs": [
    {
     "name": "stdout",
     "output_type": "stream",
     "text": [
      "megatools-1.10.2\t      models_result_40409_imgs.txt  sample_data\n",
      "megatools_1.10.2.orig.tar.gz  run_4.sh\n"
     ]
    }
   ],
   "source": [
    "!ls"
   ]
  },
  {
   "cell_type": "code",
   "execution_count": 13,
   "metadata": {
    "colab": {
     "base_uri": "https://localhost:8080/",
     "height": 34
    },
    "colab_type": "code",
    "id": "uf-GIDWq2at4",
    "outputId": "855fabf9-c05e-45a2-d18e-3aa33a607fe6"
   },
   "outputs": [
    {
     "name": "stdout",
     "output_type": "stream",
     "text": [
      "\u001b[0KDownloaded test.zip\n"
     ]
    }
   ],
   "source": [
    "megadl 'https://mega.nz/#!'"
   ]
  },
  {
   "cell_type": "code",
   "execution_count": 14,
   "metadata": {
    "colab": {
     "base_uri": "https://localhost:8080/",
     "height": 34
    },
    "colab_type": "code",
    "id": "Y5IEKqVq5iR1",
    "outputId": "93be8a0e-d7f9-4826-fe8c-2ba6a6941383"
   },
   "outputs": [
    {
     "name": "stdout",
     "output_type": "stream",
     "text": [
      "\u001b[0KDownloaded model_candidates.zip\n"
     ]
    }
   ],
   "source": [
    "megadl 'https://mega.nz/#!'"
   ]
  },
  {
   "cell_type": "code",
   "execution_count": 15,
   "metadata": {
    "colab": {
     "base_uri": "https://localhost:8080/",
     "height": 153
    },
    "colab_type": "code",
    "id": "0H3qV-E43n2p",
    "outputId": "01a5b8c5-e055-4e5f-8a84-2451c2fa6a3f"
   },
   "outputs": [
    {
     "name": "stdout",
     "output_type": "stream",
     "text": [
      "aclocal.m4     configure     lib\t  megadf     missing\n",
      "compile        configure.ac  libmega.a\t  megadl     model_candidates.zip\n",
      "config.guess   contrib\t     LICENSE\t  megaget    NEWS\n",
      "config.h       depcomp\t     ltmain.sh\t  megals     README\n",
      "config.h.in    docs\t     Makefile\t  megamkdir  stamp-h1\n",
      "config.log     HACKING\t     Makefile.am  megaput    test.zip\n",
      "config.status  INSTALL\t     Makefile.in  megareg    TODO\n",
      "config.sub     install-sh    megacopy\t  megarm     tools\n"
     ]
    }
   ],
   "source": [
    "!ls megatools-1.10.2"
   ]
  },
  {
   "cell_type": "code",
   "execution_count": 0,
   "metadata": {
    "colab": {},
    "colab_type": "code",
    "id": "LMSwRjt57QCy"
   },
   "outputs": [],
   "source": [
    "!mkdir test\n",
    "!mkdir model_candidates"
   ]
  },
  {
   "cell_type": "code",
   "execution_count": 0,
   "metadata": {
    "colab": {},
    "colab_type": "code",
    "id": "5LhZD9LW7D2M"
   },
   "outputs": [],
   "source": [
    "!cd megatools-1.10.2 && unzip -q test.zip -d ../test/"
   ]
  },
  {
   "cell_type": "code",
   "execution_count": 0,
   "metadata": {
    "colab": {},
    "colab_type": "code",
    "id": "WMEVkv6T7YTS"
   },
   "outputs": [],
   "source": [
    "!cd megatools-1.10.2 && unzip -q model_candidates.zip -d ../model_candidates/"
   ]
  },
  {
   "cell_type": "code",
   "execution_count": 19,
   "metadata": {
    "colab": {
     "base_uri": "https://localhost:8080/",
     "height": 34
    },
    "colab_type": "code",
    "id": "ilgP-RW370r4",
    "outputId": "014fea6b-0568-4853-e1bd-1412e7a3fa96"
   },
   "outputs": [
    {
     "name": "stdout",
     "output_type": "stream",
     "text": [
      "80928\n"
     ]
    }
   ],
   "source": [
    "!find test/test -print | wc -l\n",
    "!find test/test -name \"*.jpg\" -size -1k -delete"
   ]
  },
  {
   "cell_type": "code",
   "execution_count": 20,
   "metadata": {
    "colab": {
     "base_uri": "https://localhost:8080/",
     "height": 34
    },
    "colab_type": "code",
    "id": "4PRleWzE78T5",
    "outputId": "7c77b600-64a7-44c6-94b7-9dd000f37e1e"
   },
   "outputs": [
    {
     "name": "stdout",
     "output_type": "stream",
     "text": [
      "80928\n"
     ]
    }
   ],
   "source": [
    "!find test/test -print | wc -l"
   ]
  },
  {
   "cell_type": "markdown",
   "metadata": {
    "colab_type": "text",
    "id": "usxtsc_CPqL1"
   },
   "source": [
    "# Test every single model against our test dataset "
   ]
  },
  {
   "cell_type": "code",
   "execution_count": 21,
   "metadata": {
    "colab": {
     "base_uri": "https://localhost:8080/",
     "height": 442
    },
    "colab_type": "code",
    "id": "vWxr-l6fg9Uk",
    "outputId": "395bb05f-b0f1-4167-bcf1-ab87a517fddf"
   },
   "outputs": [
    {
     "data": {
      "text/plain": [
       "['inceptionv3.hdf5',\n",
       " 'inceptionv3_2.hdf5',\n",
       " 'inceptionv3_3.hdf5',\n",
       " 'inceptionv3_3_new172_03-3.094.hdf5',\n",
       " 'inceptionv3_4_new_01-3.095.hdf5',\n",
       " 'inceptionv3_4_new_2.97862.hdf5',\n",
       " 'inceptionv3_4_new_2.98436.hdf5',\n",
       " 'inceptionv3_4_new_3.04903.hdf5',\n",
       " 'inceptionv3_4_new_3.08234.hdf5',\n",
       " 'inceptionv3_4_new_3.08234_without_dropout.hdf5',\n",
       " 'inceptionv3_4_new_ohne_dpot_2.97270.hdf5',\n",
       " 'inceptionv3_4_new_ohne_dpot_2.98436.hdf5',\n",
       " 'inceptionv3_5.hdf5',\n",
       " 'inceptionv3_5_10perc.hdf5',\n",
       " 'weights.best.hdf5',\n",
       " 'weights.bestVGG16try2.hdf5',\n",
       " 'weights.bestVGG16try3.hdf5',\n",
       " 'weights.bestVGG16try3_2.hdf5',\n",
       " 'weights.bestVGG16try4.hdf5',\n",
       " 'weights.bestVGG16try6.hdf5',\n",
       " 'weights.bestVGG16try7.hdf5',\n",
       " 'weights.bestVGG16try9.hdf5',\n",
       " 'weights.bestVGG16try9_2.hdf5',\n",
       " 'weights.bestVGG16try9_3.hdf5',\n",
       " 'weights.bestVGG16try9_4.hdf5']"
      ]
     },
     "execution_count": 21,
     "metadata": {
      "tags": []
     },
     "output_type": "execute_result"
    }
   ],
   "source": [
    "import os\n",
    "\n",
    "# Model candidates\n",
    "candidates = sorted([x for x in os.listdir('model_candidates/model_candidates') if not x.startswith('.')])\n",
    "candidates"
   ]
  },
  {
   "cell_type": "code",
   "execution_count": 22,
   "metadata": {
    "colab": {
     "base_uri": "https://localhost:8080/",
     "height": 34
    },
    "colab_type": "code",
    "id": "049C-oubg9Up",
    "outputId": "3e903f33-7583-4a65-8493-db8142605000"
   },
   "outputs": [
    {
     "name": "stderr",
     "output_type": "stream",
     "text": [
      "Using TensorFlow backend.\n"
     ]
    }
   ],
   "source": [
    "from os import listdir\n",
    "from os.path import isfile, join\n",
    "import shutil\n",
    "import stat\n",
    "import collections\n",
    "from collections import defaultdict\n",
    "import random\n",
    "import numpy as np\n",
    "import math\n",
    "import json\n",
    "\n",
    "import matplotlib.pyplot as plt\n",
    "from matplotlib.pyplot import imshow\n",
    "%matplotlib inline\n",
    "\n",
    "#import tensorflow as tf\n",
    "import keras\n",
    "from keras.preprocessing.image import ImageDataGenerator\n",
    "\n",
    "from keras.applications.imagenet_utils import preprocess_input as preprocess_input_vgg\n",
    "from keras.applications.inception_v3 import preprocess_input as preprocess_input_inc\n",
    "\n",
    "from keras import metrics\n",
    "from keras.models import load_model\n",
    "from keras.utils.np_utils import to_categorical\n",
    "import keras.backend as K\n",
    "\n",
    "import h5py"
   ]
  },
  {
   "cell_type": "code",
   "execution_count": 0,
   "metadata": {
    "colab": {},
    "colab_type": "code",
    "id": "aE_VAhk5g9Us"
   },
   "outputs": [],
   "source": [
    "root_dir = 'test/test/'\n",
    "rows = 17\n",
    "cols = 6\n",
    "fig, ax = plt.subplots(rows, cols, frameon=False, figsize=(15, 25))\n",
    "fig.suptitle('Random Image from Each Food Class', fontsize=20)\n",
    "sorted_food_dirs = sorted(os.listdir(root_dir))[1:] # ignore .DS_Store Mac file\n",
    "for i in range(rows):\n",
    "    for j in range(cols):\n",
    "        try:\n",
    "            food_dir = sorted_food_dirs[i*cols + j]\n",
    "        except:\n",
    "            break\n",
    "        all_files = os.listdir(os.path.join(root_dir, food_dir))\n",
    "        rand_img = np.random.choice(all_files)\n",
    "        img = plt.imread(os.path.join(root_dir, food_dir, rand_img))\n",
    "        ax[i][j].imshow(img)\n",
    "        ec = (0, .6, .1)\n",
    "        fc = (0, .7, .2)\n",
    "        ax[i][j].text(0, -20, food_dir, size=10, rotation=0,\n",
    "                ha=\"left\", va=\"top\", \n",
    "                bbox=dict(boxstyle=\"round\", ec=ec, fc=fc))\n",
    "plt.setp(ax, xticks=[], yticks=[])\n",
    "plt.tight_layout(rect=[0, 0.03, 1, 0.95])"
   ]
  },
  {
   "cell_type": "code",
   "execution_count": 0,
   "metadata": {
    "colab": {},
    "colab_type": "code",
    "id": "JQ62TwIBg9Uw"
   },
   "outputs": [],
   "source": [
    "!find test/test -print | wc -l "
   ]
  },
  {
   "cell_type": "code",
   "execution_count": 0,
   "metadata": {
    "colab": {},
    "colab_type": "code",
    "id": "lt149nYwg9Uz"
   },
   "outputs": [],
   "source": [
    "!find test -name \"*.jpg\" -size -1k -delete"
   ]
  },
  {
   "cell_type": "code",
   "execution_count": 0,
   "metadata": {
    "colab": {},
    "colab_type": "code",
    "id": "zxCcr3jIg9U1"
   },
   "outputs": [],
   "source": [
    "def top_10_accuracy(y_true, y_pred):\n",
    "    return metrics.top_k_categorical_accuracy(y_true, y_pred, k=20)"
   ]
  },
  {
   "cell_type": "code",
   "execution_count": 0,
   "metadata": {
    "colab": {},
    "colab_type": "code",
    "id": "4yzCAeeTg9U3"
   },
   "outputs": [],
   "source": [
    "def eval_models(candidates):\n",
    "    '''\n",
    "        Evaluate all trained models in the directory model_candidates.\n",
    "        Returns: dictionary with model name as key and accuracy, top_k_accuracy\n",
    "            and loss in a list as value.\n",
    "    '''\n",
    "    test_datagen = ImageDataGenerator(rescale=1./255)\n",
    "    test_generator = test_datagen.flow_from_directory(\n",
    "            'test/test',  # this is the target directory\n",
    "            target_size=(299, 299),\n",
    "            batch_size=256,\n",
    "            #subset='test',\n",
    "            shuffle = True,\n",
    "            class_mode='categorical')\n",
    "    models_result = {}\n",
    "    dir_candidates = 'model_candidates/model_candidates/'\n",
    "    first_vgg_switch = True\n",
    "    for candidate in candidates:\n",
    "        model_path = dir_candidates+candidate\n",
    "        # VGG-16\n",
    "        if candidate.startswith('w') and first_vgg_switch:\n",
    "            # Create new test generator with correct target size\n",
    "            test_generator = test_datagen.flow_from_directory(\n",
    "                'test/test',  # this is the target directory\n",
    "                target_size=(224, 224),\n",
    "                batch_size=128,\n",
    "                subset='training',\n",
    "                shuffle = True,\n",
    "                class_mode='categorical')\n",
    "            first_vgg_switch = False\n",
    "        print('Testing ', candidate)\n",
    "        result = eval_model(model_path, test_generator)\n",
    "        print('Result: ', result)\n",
    "        models_result[candidate] = result\n",
    "        with open('models_result.txt', 'w') as file:\n",
    "          file.write(json.dumps(models_result)) # use `json.loads` to do the reverse\n",
    "    return models_result"
   ]
  },
  {
   "cell_type": "code",
   "execution_count": 0,
   "metadata": {
    "colab": {},
    "colab_type": "code",
    "id": "W71RivgLg9U6"
   },
   "outputs": [],
   "source": [
    "def eval_model(MODEL_PATH, test_generator):\n",
    "    '''\n",
    "        Returns: [loss, acc, top_k_acc]\n",
    "\n",
    "    '''\n",
    "    model = load_model(MODEL_PATH, custom_objects={'top_10_accuracy': top_10_accuracy})\n",
    "    \n",
    "    # VGG-16\n",
    "    try:\n",
    "      # ignore experimental models with number of output classes other than 230\n",
    "      if model.get_layer(\"dense_1\").get_config().get(\"units\", \"none\") == 230:\n",
    "        model_result = model.evaluate_generator(test_generator, use_multiprocessing=True, verbose=1)\n",
    "      else:\n",
    "        model_result = ()\n",
    "    except:\n",
    "      model_result = model.evaluate_generator(test_generator, use_multiprocessing=True, verbose=1)\n",
    "    return list(model_result)"
   ]
  },
  {
   "cell_type": "code",
   "execution_count": 27,
   "metadata": {
    "colab": {
     "base_uri": "https://localhost:8080/",
     "height": 173
    },
    "colab_type": "code",
    "id": "xd3zHtC9g9U8",
    "outputId": "f7066408-5075-4039-e548-e88c838fa32a"
   },
   "outputs": [
    {
     "name": "stdout",
     "output_type": "stream",
     "text": [
      "Found 80696 images belonging to 230 classes.\n",
      "Testing  inceptionv3_4_new_3.04903.hdf5\n",
      "316/316 [==============================] - 840s 3s/step\n",
      "Result:  [3.0490311656372153, 0.3393476752255378, 0.6085431744005962]\n",
      "Testing  inceptionv3_4_new_ohne_dpot_2.97270.hdf5\n",
      "316/316 [==============================] - 832s 3s/step\n",
      "Result:  [2.9726968123818978, 0.33172647962133395, 0.7079656984059866]\n",
      "{'inceptionv3_4_new_3.04903.hdf5': [3.0490311656372153, 0.3393476752255378, 0.6085431744005962], 'inceptionv3_4_new_ohne_dpot_2.97270.hdf5': [2.9726968123818978, 0.33172647962133395, 0.7079656984059866]}\n"
     ]
    }
   ],
   "source": [
    "dict_result = eval_models(candidates)\n",
    "print(dict_result)"
   ]
  },
  {
   "cell_type": "code",
   "execution_count": 0,
   "metadata": {
    "colab": {},
    "colab_type": "code",
    "id": "0hxXWOpNmLM9"
   },
   "outputs": [],
   "source": [
    "model = load_model('model_candidates/model_candidates/inceptionv3_4_new_ohne_dpot_2.97270.hdf5', custom_objects={'top_10_accuracy': top_10_accuracy})"
   ]
  },
  {
   "cell_type": "code",
   "execution_count": 43,
   "metadata": {
    "colab": {
     "base_uri": "https://localhost:8080/",
     "height": 51
    },
    "colab_type": "code",
    "id": "tAo3RDmFmbE5",
    "outputId": "45d51022-42ee-456c-fc5c-ef19bbcbb776"
   },
   "outputs": [
    {
     "name": "stdout",
     "output_type": "stream",
     "text": [
      "Found 48326 images belonging to 230 classes.\n",
      "189/189 [==============================] - 500s 3s/step\n"
     ]
    }
   ],
   "source": [
    "test_datagen = ImageDataGenerator(rescale=1./255, validation_split=0.6)\n",
    "test_generator = test_datagen.flow_from_directory(\n",
    "            'test/test',  # this is the target directory\n",
    "            target_size=(299, 299),\n",
    "            batch_size=256,\n",
    "            subset='validation',\n",
    "            shuffle = True,\n",
    "            class_mode='categorical')\n",
    "\n",
    "history = model.evaluate_generator(test_generator, use_multiprocessing=True, verbose=1)"
   ]
  },
  {
   "cell_type": "code",
   "execution_count": 44,
   "metadata": {
    "colab": {
     "base_uri": "https://localhost:8080/",
     "height": 34
    },
    "colab_type": "code",
    "id": "mfKCEbzHwzRN",
    "outputId": "3185d503-ff3c-4c3a-91b3-49a7253fad47"
   },
   "outputs": [
    {
     "data": {
      "text/plain": [
       "[2.998778579339964, 0.32783594751813894, 0.8087985764319241]"
      ]
     },
     "execution_count": 44,
     "metadata": {
      "tags": []
     },
     "output_type": "execute_result"
    }
   ],
   "source": [
    "list(history)"
   ]
  },
  {
   "cell_type": "code",
   "execution_count": 36,
   "metadata": {
    "colab": {
     "base_uri": "https://localhost:8080/",
     "height": 294
    },
    "colab_type": "code",
    "id": "Boo04qqYt12B",
    "outputId": "cda695ff-550b-486c-aa87-b448df248d40"
   },
   "outputs": [
    {
     "data": {
      "image/png": "[encoded data removed]",
      "text/plain": [
       "<matplotlib.figure.Figure at 0x7fde514f9ef0>"
      ]
     },
     "metadata": {
      "tags": []
     },
     "output_type": "display_data"
    }
   ],
   "source": [
    "plt.figure(1)\n",
    "\n",
    "# summarize history for accuracy\n",
    "\n",
    "plt.subplot(211)\n",
    "plt.plot(history.history['acc'])\n",
    "plt.plot(history.history['val_acc'])\n",
    "plt.title('model accuracy')\n",
    "plt.ylabel('accuracy')\n",
    "plt.xlabel('epoch')\n",
    "plt.legend(['train', 'test'], loc='upper left')\n",
    "\n",
    "# summarize history for loss\n",
    "\n",
    "plt.subplot(212)\n",
    "plt.plot(history.history['loss'])\n",
    "plt.plot(history.history['val_loss'])\n",
    "plt.title('model loss')\n",
    "plt.ylabel('loss')\n",
    "plt.xlabel('epoch')\n",
    "plt.legend(['train', 'test'], loc='upper left')\n",
    "plt.show()"
   ]
  },
  {
   "cell_type": "code",
   "execution_count": 0,
   "metadata": {
    "colab": {},
    "colab_type": "code",
    "id": "__p6tmi_p0mg"
   },
   "outputs": [],
   "source": [
    "with open('models_result_40409_imgs.txt') as f:\n",
    "    models_result = json.load(f)"
   ]
  },
  {
   "cell_type": "markdown",
   "metadata": {
    "colab_type": "text",
    "id": "CsZjTrURP8x8"
   },
   "source": [
    "# Compare which models suits us the most\n",
    "### Return the best model compared from:\n",
    "\n",
    "\n",
    "\n",
    "*   Loss\n",
    "*   Top 1 accuracy\n",
    "*   Top 10 accuracy\n",
    "*   Overall\n"
   ]
  },
  {
   "cell_type": "code",
   "execution_count": 0,
   "metadata": {
    "colab": {},
    "colab_type": "code",
    "id": "OZhDDU6I8DiK"
   },
   "outputs": [],
   "source": [
    "def diffr(items):\n",
    "  '''\n",
    "    Opposite of the built-in function sum()\n",
    "  '''\n",
    "  try:\n",
    "    e = items[0] - items[1]\n",
    "    return [e]\n",
    "  except(IndexError):\n",
    "    return []\n",
    "\n",
    "def best_loss(models_dict):\n",
    "  '''\n",
    "    Return: list in ascending order of loss\n",
    "  '''\n",
    "  return [x[0] for x in sorted(models_dict.items(), key=lambda x: x[1]) if len(x[1]) is not 0]\n",
    "\n",
    "def best_top_1_acc(models_dict):\n",
    "  '''\n",
    "    Return: list in descending order of accuracy\n",
    "  '''\n",
    "  return [x[0] for x in sorted(models_dict.items(), key=lambda x: [y[1] for y in x if len(x[1])>0], reverse=True) if len(x[1]) is not 0]\n",
    "  \n",
    "def best_top_10_acc(models_dict):\n",
    "  '''\n",
    "    Return: list in descending order of top 10 accuracy\n",
    "  '''\n",
    "  return [x[0] for x in sorted(models_dict.items(), key=lambda x: [y[2] for y in x if len(x[1])>0 and len(x[1])>2], reverse=True) if len(x[1]) is not 0]\n",
    "\n",
    "def best_overall(models_dict):\n",
    "  '''\n",
    "    Return: list with overall best models calculatet with substracting the accuracy from the loss\n",
    "  '''\n",
    "  return [x[0] for x in sorted(models_dict.items(), key=lambda x: diffr([y for y in x[1] if len(x[1])>0])) if len(x[1]) is not 0]"
   ]
  },
  {
   "cell_type": "code",
   "execution_count": 203,
   "metadata": {
    "colab": {
     "base_uri": "https://localhost:8080/",
     "height": 102
    },
    "colab_type": "code",
    "id": "q4wJxauag9U_",
    "outputId": "6dd6ff6d-3337-456e-bb02-49c739cf9f3f"
   },
   "outputs": [
    {
     "name": "stdout",
     "output_type": "stream",
     "text": [
      "[INFO] Best Loss: inceptionv3_4_new_ohne_dpot_2.97270.hdf5\n",
      "[INFO] Best Top 1 accuracy: inceptionv3_4_new_3.04903.hdf5\n",
      "[INFO] Best Top 10 accuracy: inceptionv3_4_new_ohne_dpot_2.97270.hdf5\n",
      "\n",
      "[INFO] Best Overall: inceptionv3_4_new_ohne_dpot_2.97270.hdf5\n"
     ]
    }
   ],
   "source": [
    "print(\"[INFO] Best Loss: {}\".format(best_loss(models_result)[0]))\n",
    "print(\"[INFO] Best Top 1 accuracy: {}\".format(best_top_1_acc(models_result)[0]))\n",
    "print(\"[INFO] Best Top 10 accuracy: {}\".format(best_top_10_acc(models_result)[0]))\n",
    "print(\"\\n[INFO] Best Overall: {}\".format(best_overall(models_result)[0]))"
   ]
  },
  {
   "cell_type": "markdown",
   "metadata": {
    "colab_type": "text",
    "id": "iSr54JVCQfLG"
   },
   "source": [
    "### Best model overall: inceptionv3_4_new_ohne_dpot_2.97270.hdf5"
   ]
  }
 ],
 "metadata": {
  "accelerator": "GPU",
  "colab": {
   "collapsed_sections": [],
   "name": "models_evaluation.ipynb",
   "provenance": [],
   "version": "0.3.2"
  },
  "kernelspec": {
   "display_name": "Python 3",
   "language": "python",
   "name": "python3"
  },
  "language_info": {
   "codemirror_mode": {
    "name": "ipython",
    "version": 3
   },
   "file_extension": ".py",
   "mimetype": "text/x-python",
   "name": "python",
   "nbconvert_exporter": "python",
   "pygments_lexer": "ipython3",
   "version": "3.6.2"
  }
 },
 "nbformat": 4,
 "nbformat_minor": 1
}
